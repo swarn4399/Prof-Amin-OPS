{
 "cells": [
  {
   "cell_type": "code",
   "execution_count": 5,
   "metadata": {},
   "outputs": [],
   "source": [
    "import numpy as np\n",
    "import pandas as pd\n",
    "import gc\n",
    "import os\n",
    "import glob\n",
    "import hickle as hkl\n",
    "from tqdm import tqdm\n",
    "import joblib\n",
    "\n",
    "# test_data_path = 'test_pred/'\n",
    "test_data_path = 'C:/Users/13528/Task 1/test_pred/'\n",
    "\n",
    "# data_path = 'Skip_Data/'\n",
    "data_path = 'C:/Users/13528/Task 1/Skip Data/'\n",
    "\n",
    "test_files = glob.glob(test_data_path + 'pred_*.parquet')\n",
    "len(test_files)\n",
    "test_files = list(np.sort(test_files))"
   ]
  },
  {
   "cell_type": "code",
   "execution_count": 6,
   "metadata": {},
   "outputs": [
    {
     "data": {
      "text/plain": [
       "['C:/Users/13528/Task 1/test_pred\\\\pred_20180715.parquet']"
      ]
     },
     "execution_count": 6,
     "metadata": {},
     "output_type": "execute_result"
    }
   ],
   "source": [
    "test_files"
   ]
  },
  {
   "cell_type": "code",
   "execution_count": 7,
   "metadata": {},
   "outputs": [
    {
     "name": "stderr",
     "output_type": "stream",
     "text": [
      "100%|████████████████████████████████████████████████████████████████████████████████████| 1/1 [00:07<00:00,  7.19s/it]\n"
     ]
    }
   ],
   "source": [
    "from scipy.special import logit, expit\n",
    "\n",
    "with open('submission_0108.txt', 'w') as f:\n",
    "    for item in tqdm(test_files):\n",
    "        #data =0.35*hkl.load(data_path+item[15:23]+'_y_pred_mtsk.hkl') + 0.33*hkl.load(data_path+item[15:23]+'_y_pred_max.hkl') + 0.31*hkl.load(data_path+item[15:23]+'_y_pred.hkl')\n",
    "       # data = 0.32*hkl.load(data_path+item[15:23]+'_y_pred_mtsk_larger_bn.hkl')+0.34*hkl.load(data_path+item[15:23]+'_y_pred_mtsk_larger_v2.hkl')+0.34*hkl.load(data_path+item[15:23]+'_y_pred_mtsk_larger.hkl')\n",
    "     #   data = 0.25*hkl.load(data_path+item[15:23]+'_y_pred_mtsk_larger_bn.hkl')+0.25*hkl.load(data_path+item[15:23]+'_y_pred_mtsk_larger_v2.hkl')+0.25*hkl.load(data_path+item[15:23]+'_y_pred_mtsk_larger.hkl')+0.25*hkl.load(data_path+item[15:23]+'_y_pred_mtsk_larger_v3.hkl')\n",
    "        #data = 0.2*hkl.load(data_path+item[15:23]+'_y_pred_mtsk_larger_bn.hkl')+0.2*hkl.load(data_path+item[15:23]+'_y_pred_mtsk_larger_v2.hkl')+0.2*hkl.load(data_path+item[15:23]+'_y_pred_mtsk_larger.hkl')+0.2*hkl.load(data_path+item[15:23]+'_y_pred_mtsk_larger_v3.hkl')+0.2*hkl.load(data_path+item[15:23]+'_y_pred_mtsk_larger_v4.hkl')\n",
    "       # data = expit(0.2*logit(hkl.load(data_path+item[15:23]+'_y_pred_mtsk_larger_bn.hkl'))+0.2*logit(hkl.load(data_path+item[15:23]+'_y_pred_mtsk_larger_v2.hkl'))+0.2*logit(hkl.load(data_path+item[15:23]+'_y_pred_mtsk_larger.hkl'))+0.2*logit(hkl.load(data_path+item[15:23]+'_y_pred_mtsk_larger_v3.hkl'))+0.2*logit(hkl.load(data_path+item[15:23]+'_y_pred_mtsk_larger_v4.hkl')))\n",
    "        #data = expit(0.166*logit(hkl.load(data_path+item[15:23]+'_y_pred_mtsk_larger_bn.hkl'))+0.166*logit(hkl.load(data_path+item[15:23]+'_y_pred_mtsk_larger_v2.hkl'))+0.167*logit(hkl.load(data_path+item[15:23]+'_y_pred_mtsk_larger.hkl'))+0.167*logit(hkl.load(data_path+item[15:23]+'_y_pred_mtsk_larger_v3.hkl'))+0.167*logit(hkl.load(data_path+item[15:23]+'_y_pred_mtsk_larger_v4.hkl'))+0.167*logit(hkl.load(data_path+item[15:23]+'_y_pred_mtsk_larger_v6.hkl')))\n",
    "#         data = hkl.load(data_path+item[15:23]+'_y_pred_mtsk_larger_v6.hkl')\n",
    "#         data = hkl.load(data_path+item[37:45]+'_y_pred_mtsk_larger_v6.hkl')\n",
    "        data = joblib.load(data_path+item[37:45]+'_y_pred_mtsk_larger_v6.pkl')\n",
    "\n",
    "        pred = data*0\n",
    "        pred[data>0.5] = 1        \n",
    "        pred = pred.astype(int)        \n",
    "        preddf = pd.read_parquet(item)\n",
    "        preddf = preddf[['session_id','session_length']]\n",
    "        preddf = preddf.drop_duplicates(subset = 'session_id')\n",
    "        session_length = np.array(preddf['session_length'])\n",
    "        if data.shape[0] != len(session_length):\n",
    "            print('error!')\n",
    "        for i in range(len(session_length)):\n",
    "            tmp = pred[i,:]\n",
    "            tmp_len = int(np.ceil(session_length[i]/2))\n",
    "            tmp = tmp[range(tmp_len)]\n",
    "            f.write(\"%s\\n\" % ''.join(map(str, tmp)))"
   ]
  },
  {
   "cell_type": "code",
   "execution_count": 9,
   "metadata": {},
   "outputs": [
    {
     "data": {
      "text/plain": [
       "array([[3.2411566e-01, 5.8322275e-01, 5.6057453e-01, ..., 4.1812947e-01,\n",
       "        2.6344624e-08, 4.9261231e-09],\n",
       "       [2.1204594e-01, 2.2297427e-01, 2.0965984e-01, ..., 2.9661512e-01,\n",
       "        3.2092968e-01, 3.3274466e-01],\n",
       "       [1.9237703e-01, 2.4401748e-01, 2.9978228e-01, ..., 2.8247822e-11,\n",
       "        3.0076934e-11, 7.6074591e-11],\n",
       "       ...,\n",
       "       [5.3896695e-02, 1.6095698e-01, 1.3422990e-01, ..., 1.7501134e-01,\n",
       "        1.8700862e-01, 2.0965946e-01],\n",
       "       [3.6992228e-01, 5.1141691e-01, 5.1034886e-01, ..., 5.8604300e-01,\n",
       "        5.5437458e-01, 5.3205740e-01],\n",
       "       [8.1383818e-01, 7.2042125e-01, 6.7696434e-01, ..., 2.5850856e-01,\n",
       "        6.9544370e-09, 2.6053735e-09]], dtype=float32)"
      ]
     },
     "execution_count": 9,
     "metadata": {},
     "output_type": "execute_result"
    }
   ],
   "source": [
    "data"
   ]
  },
  {
   "cell_type": "code",
   "execution_count": null,
   "metadata": {},
   "outputs": [],
   "source": []
  }
 ],
 "metadata": {
  "kernelspec": {
   "display_name": "Python 3 (ipykernel)",
   "language": "python",
   "name": "python3"
  },
  "language_info": {
   "codemirror_mode": {
    "name": "ipython",
    "version": 3
   },
   "file_extension": ".py",
   "mimetype": "text/x-python",
   "name": "python",
   "nbconvert_exporter": "python",
   "pygments_lexer": "ipython3",
   "version": "3.9.7"
  }
 },
 "nbformat": 4,
 "nbformat_minor": 2
}
